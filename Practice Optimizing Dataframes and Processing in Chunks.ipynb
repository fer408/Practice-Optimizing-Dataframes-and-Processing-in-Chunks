{
 "cells": [
  {
   "cell_type": "code",
   "execution_count": 204,
   "metadata": {
    "collapsed": true
   },
   "outputs": [],
   "source": [
    "import pandas as pd\n",
    "pd.options.display.max_columns = 99"
   ]
  },
  {
   "cell_type": "markdown",
   "metadata": {},
   "source": [
    "Read in the first five lines from loans_2007.csv and look for any data quality issues."
   ]
  },
  {
   "cell_type": "code",
   "execution_count": 205,
   "metadata": {
    "collapsed": false
   },
   "outputs": [
    {
     "name": "stdout",
     "output_type": "stream",
     "text": [
      "        id  member_id  loan_amnt  funded_amnt  funded_amnt_inv        term  \\\n",
      "0  1077501  1296599.0     5000.0       5000.0           4975.0   36 months   \n",
      "1  1077430  1314167.0     2500.0       2500.0           2500.0   60 months   \n",
      "2  1077175  1313524.0     2400.0       2400.0           2400.0   36 months   \n",
      "3  1076863  1277178.0    10000.0      10000.0          10000.0   36 months   \n",
      "4  1075358  1311748.0     3000.0       3000.0           3000.0   60 months   \n",
      "\n",
      "  int_rate  installment grade sub_grade                 emp_title emp_length  \\\n",
      "0   10.65%       162.87     B        B2                       NaN  10+ years   \n",
      "1   15.27%        59.83     C        C4                     Ryder   < 1 year   \n",
      "2   15.96%        84.33     C        C5                       NaN  10+ years   \n",
      "3   13.49%       339.31     C        C1       AIR RESOURCES BOARD  10+ years   \n",
      "4   12.69%        67.79     B        B5  University Medical Group     1 year   \n",
      "\n",
      "  home_ownership  annual_inc verification_status   issue_d  loan_status  \\\n",
      "0           RENT     24000.0            Verified  Dec-2011   Fully Paid   \n",
      "1           RENT     30000.0     Source Verified  Dec-2011  Charged Off   \n",
      "2           RENT     12252.0        Not Verified  Dec-2011   Fully Paid   \n",
      "3           RENT     49200.0     Source Verified  Dec-2011   Fully Paid   \n",
      "4           RENT     80000.0     Source Verified  Dec-2011      Current   \n",
      "\n",
      "  pymnt_plan         purpose                 title zip_code addr_state    dti  \\\n",
      "0          n     credit_card              Computer    860xx         AZ  27.65   \n",
      "1          n             car                  bike    309xx         GA   1.00   \n",
      "2          n  small_business  real estate business    606xx         IL   8.72   \n",
      "3          n           other              personel    917xx         CA  20.00   \n",
      "4          n           other              Personal    972xx         OR  17.94   \n",
      "\n",
      "   delinq_2yrs earliest_cr_line  inq_last_6mths  open_acc  pub_rec  revol_bal  \\\n",
      "0          0.0         Jan-1985             1.0       3.0      0.0    13648.0   \n",
      "1          0.0         Apr-1999             5.0       3.0      0.0     1687.0   \n",
      "2          0.0         Nov-2001             2.0       2.0      0.0     2956.0   \n",
      "3          0.0         Feb-1996             1.0      10.0      0.0     5598.0   \n",
      "4          0.0         Jan-1996             0.0      15.0      0.0    27783.0   \n",
      "\n",
      "  revol_util  total_acc initial_list_status  out_prncp  out_prncp_inv  \\\n",
      "0      83.7%        9.0                   f       0.00           0.00   \n",
      "1       9.4%        4.0                   f       0.00           0.00   \n",
      "2      98.5%       10.0                   f       0.00           0.00   \n",
      "3        21%       37.0                   f       0.00           0.00   \n",
      "4      53.9%       38.0                   f     461.73         461.73   \n",
      "\n",
      "    total_pymnt  total_pymnt_inv  total_rec_prncp  total_rec_int  \\\n",
      "0   5863.155187          5833.84          5000.00         863.16   \n",
      "1   1008.710000          1008.71           456.46         435.17   \n",
      "2   3005.666844          3005.67          2400.00         605.67   \n",
      "3  12231.890000         12231.89         10000.00        2214.92   \n",
      "4   3581.120000          3581.12          2538.27        1042.85   \n",
      "\n",
      "   total_rec_late_fee  recoveries  collection_recovery_fee last_pymnt_d  \\\n",
      "0                0.00        0.00                     0.00     Jan-2015   \n",
      "1                0.00      117.08                     1.11     Apr-2013   \n",
      "2                0.00        0.00                     0.00     Jun-2014   \n",
      "3               16.97        0.00                     0.00     Jan-2015   \n",
      "4                0.00        0.00                     0.00     Jun-2016   \n",
      "\n",
      "   last_pymnt_amnt last_credit_pull_d  collections_12_mths_ex_med  \\\n",
      "0           171.62           Jun-2016                         0.0   \n",
      "1           119.66           Sep-2013                         0.0   \n",
      "2           649.91           Jun-2016                         0.0   \n",
      "3           357.48           Apr-2016                         0.0   \n",
      "4            67.79           Jun-2016                         0.0   \n",
      "\n",
      "   policy_code application_type  acc_now_delinq  chargeoff_within_12_mths  \\\n",
      "0          1.0       INDIVIDUAL             0.0                       0.0   \n",
      "1          1.0       INDIVIDUAL             0.0                       0.0   \n",
      "2          1.0       INDIVIDUAL             0.0                       0.0   \n",
      "3          1.0       INDIVIDUAL             0.0                       0.0   \n",
      "4          1.0       INDIVIDUAL             0.0                       0.0   \n",
      "\n",
      "   delinq_amnt  pub_rec_bankruptcies  tax_liens  \n",
      "0          0.0                   0.0        0.0  \n",
      "1          0.0                   0.0        0.0  \n",
      "2          0.0                   0.0        0.0  \n",
      "3          0.0                   0.0        0.0  \n",
      "4          0.0                   0.0        0.0  \n"
     ]
    },
    {
     "name": "stderr",
     "output_type": "stream",
     "text": [
      "/dataquest/system/env/python3/lib/python3.4/site-packages/IPython/core/interactiveshell.py:2723: DtypeWarning: Columns (0) have mixed types. Specify dtype option on import or set low_memory=False.\n",
      "  interactivity=interactivity, compiler=compiler, result=result)\n"
     ]
    }
   ],
   "source": [
    "loans_2007df = pd.read_csv(\"loans_2007.csv\")\n",
    "print(loans_2007df.head(n=5))\n"
   ]
  },
  {
   "cell_type": "markdown",
   "metadata": {},
   "source": [
    "Read in the first 1000 rows from the data set, and calculate the total memory usage for these rows. Increase or decrease the number of rows to converge on a memory usage under five megabytes (to stay on the conservative side)."
   ]
  },
  {
   "cell_type": "code",
   "execution_count": 206,
   "metadata": {
    "collapsed": false
   },
   "outputs": [
    {
     "name": "stdout",
     "output_type": "stream",
     "text": [
      "Memory usage under five mbs and 3171 rows:\n",
      "\n",
      "4.998802185058594\n"
     ]
    }
   ],
   "source": [
    "memory_usage_under_5mbs = loans_2007df[:3171].memory_usage(deep=True).sum() / (1024 ** 2)\n",
    "print(\"Memory usage under five mbs and 3171 rows:\\n\")\n",
    "print(memory_usage_under_5mbs)"
   ]
  },
  {
   "cell_type": "markdown",
   "metadata": {},
   "source": [
    "Let's familiarize ourselves with the columns to see which ones we can optimize. In the first mission, we explored column types by reading in the full dataframe. In this guided project, let's try to understand the column types better while using dataframe chunks.\n",
    "\n",
    "For each chunk:\n",
    "How many columns have a numeric type? How many have a string type?\n",
    "How many unique values are there in each string column? \n",
    "\n"
   ]
  },
  {
   "cell_type": "code",
   "execution_count": 207,
   "metadata": {
    "collapsed": false
   },
   "outputs": [
    {
     "name": "stdout",
     "output_type": "stream",
     "text": [
      "Total amount of numeric columns:\n",
      "\n",
      "31\n",
      "\n",
      "\n",
      "Total amount of string columns:\n",
      "\n",
      "21\n"
     ]
    }
   ],
   "source": [
    "from pandas.api.types import is_string_dtype\n",
    "from pandas.api.types import is_numeric_dtype\n",
    "from pandas.api.types import is_float_dtype\n",
    "\n",
    "chunk_iter = pd.read_csv(\"loans_2007.csv\",chunksize=3170)\n",
    "chunk_usage = []\n",
    "for chunk in chunk_iter:\n",
    "    chunk_usage.append(chunk.memory_usage())\n",
    "    column_types = chunk.dtypes.value_counts()\n",
    "    break\n",
    "numerics = column_types[0] + column_types[2]\n",
    "strings = column_types[1]\n",
    "\n",
    "print(\"Total amount of numeric columns:\\n\")\n",
    "print(numerics)\n",
    "print('\\n')\n",
    "print(\"Total amount of string columns:\\n\")\n",
    "print(strings)\n",
    "    "
   ]
  },
  {
   "cell_type": "markdown",
   "metadata": {},
   "source": [
    "How many unique values are there in each string column? How many of the string columns contain values that are less than 50% unique?"
   ]
  },
  {
   "cell_type": "code",
   "execution_count": 208,
   "metadata": {
    "collapsed": false
   },
   "outputs": [
    {
     "name": "stdout",
     "output_type": "stream",
     "text": [
      "Total amount of unique values:\n",
      "42538\n",
      "\n",
      "\n",
      "Strings columns where over half of the values where unique:\n",
      "2\n"
     ]
    }
   ],
   "source": [
    "#How many unique values are there in each string column? \n",
    "string_columns = loans_2007df.select_dtypes(include=['object'])\n",
    "total_unique_values = len(string_columns)\n",
    "print(\"Total amount of unique values:\")\n",
    "print(total_unique_values)\n",
    "print('\\n')\n",
    "#How many of the string columns contain values that are less than 50% unique?\n",
    "more_than_half_unique = 0\n",
    "name_of_columns_more_than_half_the_vals_unique = []\n",
    "for col in string_columns.columns:\n",
    "    string_unique_values = len(loans_2007df[col].unique())\n",
    "    string_total_values = len(loans_2007df[col])\n",
    "    if string_unique_values / string_total_values > 0.5:\n",
    "        more_than_half_unique += 1\n",
    "        name_of_columns_more_than_half_the_vals_unique.append(col)\n",
    "print('Strings columns where over half of the values where unique:')\n",
    "print(more_than_half_unique)  \n"
   ]
  },
  {
   "cell_type": "markdown",
   "metadata": {},
   "source": [
    "Which float columns have no missing values and could be candidates for conversion to the integer type?"
   ]
  },
  {
   "cell_type": "code",
   "execution_count": 209,
   "metadata": {
    "collapsed": false
   },
   "outputs": [
    {
     "name": "stdout",
     "output_type": "stream",
     "text": [
      "All candidate columns for conversion to integer type:\n",
      "\n",
      "['id', 'term', 'int_rate', 'grade', 'sub_grade', 'emp_title', 'emp_length', 'home_ownership', 'verification_status', 'issue_d', 'loan_status', 'pymnt_plan', 'purpose', 'title', 'zip_code', 'addr_state', 'earliest_cr_line', 'revol_util', 'initial_list_status', 'last_pymnt_d', 'last_credit_pull_d', 'application_type']\n"
     ]
    }
   ],
   "source": [
    "float_types = [\"float16\", \"float32\", \"float64\", \"float128\"]\n",
    "float_columns = loans_2007df.select_dtypes(include= float_types)\n",
    "missing_value_columns = float_columns.columns[float_columns.isnull().any()].tolist()\n",
    "candidate_columns = []\n",
    "column_names = list(loans_2007df.columns.values)\n",
    "len(column_names)\n",
    "for name in column_names:\n",
    "    if name not in missing_value_columns:\n",
    "        candidate_columns.append(name)\n",
    "print('All candidate columns for conversion to integer type:\\n')\n",
    "print(candidate_columns)"
   ]
  },
  {
   "cell_type": "code",
   "execution_count": 210,
   "metadata": {
    "collapsed": false
   },
   "outputs": [
    {
     "name": "stdout",
     "output_type": "stream",
     "text": [
      "Total memory usage:\n",
      "67.41611766815186\n"
     ]
    }
   ],
   "source": [
    "# Calculate the total memory usage across all of the chunks.\n",
    "all_cols_memory = loans_2007df.memory_usage(deep = True)\n",
    "all_cols_sum = all_cols_memory.sum()\n",
    "print(\"Total memory usage:\")\n",
    "print(all_cols_sum / (1024*1024))"
   ]
  },
  {
   "cell_type": "markdown",
   "metadata": {
    "collapsed": false
   },
   "source": [
    "As we learned in the first mission of this course, we can achieve the greatest memory improvements by converting the string columns to a numeric type. Let's convert all of the columns where the values are less than 50% unique to the category type, and the columns that contain numeric values to the float type."
   ]
  },
  {
   "cell_type": "code",
   "execution_count": 211,
   "metadata": {
    "collapsed": false
   },
   "outputs": [],
   "source": [
    "import numpy as np\n",
    "numbers = [0,1,2,3,4,5,6,7,8,9]\n",
    "can_be_numerics = []\n",
    "can_be_categories = []\n",
    "obj_cols = loans_2007df.select_dtypes(include=['object'])\n",
    "for col in obj_cols.columns:\n",
    "    for number in numbers:\n",
    "        if number in loans_2007df[col]:\n",
    "            can_be_numerics.append(col)\n",
    "    num_unique_values = len(loans_2007df[col].unique())\n",
    "    num_total_values = len(loans_2007df[col])\n",
    "    if np.issubdtype(loans_2007df[col].dtype, np.number):\n",
    "        loans_2007df[col] = loans_2007df[col].astype('float')\n",
    "    elif num_unique_values / num_total_values < 0.5:\n",
    "        can_be_categories.append(col)\n",
    "        loans_2007df[col] = loans_2007df[col].astype('category')"
   ]
  },
  {
   "cell_type": "markdown",
   "metadata": {},
   "source": [
    "While working with dataframe chunks:"
   ]
  },
  {
   "cell_type": "code",
   "execution_count": 212,
   "metadata": {
    "collapsed": false
   },
   "outputs": [
    {
     "name": "stdout",
     "output_type": "stream",
     "text": [
      "String columns which can be numeric columns:\n",
      "\n",
      "{'term', 'home_ownership', 'revol_util', 'grade', 'issue_d', 'addr_state', 'sub_grade', 'emp_title', 'earliest_cr_line', 'loan_status', 'initial_list_status', 'emp_length', 'application_type', 'last_pymnt_d', 'last_credit_pull_d', 'int_rate', 'id', 'pymnt_plan', 'title', 'zip_code', 'purpose', 'verification_status'}\n",
      "\n",
      "\n",
      "Columns with few unique values:\n",
      "\n",
      "['term', 'int_rate', 'grade', 'sub_grade', 'emp_length', 'home_ownership', 'verification_status', 'issue_d', 'loan_status', 'pymnt_plan', 'purpose', 'title', 'zip_code', 'addr_state', 'earliest_cr_line', 'revol_util', 'initial_list_status', 'last_pymnt_d', 'last_credit_pull_d', 'application_type']\n"
     ]
    }
   ],
   "source": [
    "#Determine which string columns you can convert to a numeric type if you \n",
    "#clean them. For example, the int_rate column is only a string because \n",
    "#of the % sign at the end.\n",
    "print(\"String columns which can be numeric columns:\\n\")\n",
    "print(set(can_be_numerics))\n",
    "print('\\n')            \n",
    "#Determine which columns have a few unique values and convert them \n",
    "#to the category type.\n",
    "print(\"Columns with few unique values:\\n\")\n",
    "print(can_be_categories)\n",
    "\n"
   ]
  },
  {
   "cell_type": "code",
   "execution_count": 227,
   "metadata": {
    "collapsed": false
   },
   "outputs": [
    {
     "name": "stdout",
     "output_type": "stream",
     "text": [
      "Float columns that contain missing values:\n",
      "\n",
      "['member_id', 'loan_amnt', 'funded_amnt', 'funded_amnt_inv', 'installment', 'annual_inc', 'dti', 'delinq_2yrs', 'inq_last_6mths', 'open_acc', 'pub_rec', 'revol_bal', 'total_acc', 'out_prncp', 'out_prncp_inv', 'total_pymnt', 'total_pymnt_inv', 'total_rec_prncp', 'total_rec_int', 'total_rec_late_fee', 'recoveries', 'collection_recovery_fee', 'last_pymnt_amnt', 'collections_12_mths_ex_med', 'policy_code', 'acc_now_delinq', 'chargeoff_within_12_mths', 'delinq_amnt', 'pub_rec_bankruptcies', 'tax_liens']\n",
      "\n",
      "\n",
      "Float columns that don't contain any missing values and can be represented as whole numbers:\n",
      "\n",
      "['id', 'term', 'int_rate', 'grade', 'sub_grade', 'emp_title', 'emp_length', 'home_ownership', 'verification_status', 'issue_d', 'loan_status', 'pymnt_plan', 'purpose', 'title', 'zip_code', 'addr_state', 'earliest_cr_line', 'revol_util', 'initial_list_status', 'last_pymnt_d', 'last_credit_pull_d', 'application_type']\n",
      "70690923\n",
      "17.914603233337402\n",
      "The old memory footprint is bigger at: 67.41611766815186 megabytes  while the new memory footprint is: 17.914603233337402 megabytes\n"
     ]
    }
   ],
   "source": [
    "#Identify float columns that contain missing values, and that we \n",
    "#can convert to a more space efficient subtype\n",
    "print(\"Float columns that contain missing values:\\n\")\n",
    "print(missing_value_columns)\n",
    "print(\"\\n\")\n",
    "#Identify float columns that don't contain any missing values, \n",
    "#and that we can convert to the integer type because they represent \n",
    "#whole numbers\n",
    "print(\"Float columns that don't contain any missing values\\\n",
    " and can be represented as whole numbers:\\n\")\n",
    "print(candidate_columns)\n",
    "\n",
    "#Based on your conclusions, perform the necessary type changes across\n",
    "#all chunks. Calculate the total memory footprint and compare it with\n",
    "#the previous one.\n",
    "new_memory_footprint = loans_2007df.memory_usage(deep = True).sum() / (1024*1024)\n",
    "old_memory_footprint = all_cols_sum / (1024*1024)\n",
    "print(all_cols_sum)\n",
    "print(new_memory_footprint)\n",
    "if all_cols_sum < new_memory_footprint:\n",
    "    print(\"The new memory footprint is bigger at: \" + str(new_memory_footprint )+ \n",
    "         \" while the old memory footprint is: \" + str(all_cols_sum / (1024*1024))) \n",
    "else:\n",
    "    print(\"The old memory footprint is bigger at: \" + str(all_cols_sum / (1024*1024)) + \" megabytes \" + \n",
    "         \" while the new memory footprint is: \" + str(new_memory_footprint) + \" megabytes\") "
   ]
  }
 ],
 "metadata": {
  "anaconda-cloud": {},
  "kernelspec": {
   "display_name": "Python 3",
   "language": "python",
   "name": "python3"
  },
  "language_info": {
   "codemirror_mode": {
    "name": "ipython",
    "version": 3
   },
   "file_extension": ".py",
   "mimetype": "text/x-python",
   "name": "python",
   "nbconvert_exporter": "python",
   "pygments_lexer": "ipython3",
   "version": "3.4.3"
  }
 },
 "nbformat": 4,
 "nbformat_minor": 2
}
